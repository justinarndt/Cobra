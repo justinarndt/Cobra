{
 "cells": [
  {
   "cell_type": "markdown",
   "metadata": {},
   "source": [
    "# Cobra vs. Pandas: The Power of Kernel Fusion\n",
    "\n",
    "This notebook provides a simple, visual demonstration of the massive performance advantage of Cobra's JIT-compiled kernel fusion engine compared to a standard pandas/NumPy workflow."
   ]
  },
  {
   "cell_type": "code",
   "execution_count": null,
   "metadata": {},
   "outputs": [],
   "source": [
    "import numpy as np\n",
    "import pandas as pd\n",
    "import cobra\n",
    "import time"
   ]
  },
  {
   "cell_type": "markdown",
   "metadata": {},
   "source": [
    "## 1. The Data Processing Pipeline\n",
    "\n",
    "We will define a simple, multi-step data transformation pipeline. Notice the logic is identical for both versions."
   ]
  },
  {
   "cell_type": "code",
   "execution_count": null,
   "metadata": {},
   "outputs": [],
   "source": [
    "def pipeline(df):\n",
    "    # A series of common data science operations\n",
    "    df['col_c'] = df['col_a'] + 10.0\n",
    "    df['col_d'] = df['col_b'] * 2.5\n",
    "    df['col_e'] = df['col_c'] / df['col_d']\n",
    "    return df"
   ]
  },
  {
   "cell_type": "markdown",
   "metadata": {},
   "source": [
    "## 2. Setup\n",
    "\n",
    "Let's create a large dataset and prepare both a pandas DataFrame and a CobraFrame."
   ]
  },
  {
   "cell_type": "code",
   "execution_count": null,
   "metadata": {},
   "outputs": [],
   "source": [
    "size = 20_000_000\n",
    "\n",
    "# Pandas DataFrame\n",
    "df_pandas = pd.DataFrame({\n",
    "    'col_a': np.random.uniform(1, 10, size),\n",
    "    'col_b': np.random.uniform(1, 10, size),\n",
    "})\n",
    "\n",
    "# CobraFrame\n",
    "cf_cobra = cobra.CobraFrame(df_pandas.to_dict('list'))"
   ]
  },
  {
   "cell_type": "markdown",
   "metadata": {},
   "source": [
    "## 3. Benchmarking\n",
    "\n",
    "### Pandas/NumPy Execution\n",
    "This creates at least 3 large intermediate copies of the data in memory."
   ]
  },
  {
   "cell_type": "code",
   "execution_count": null,
   "metadata": {},
   "outputs": [],
   "source": [
    "start = time.perf_counter()\n",
    "result_pandas = pipeline(df_pandas.copy())\n",
    "duration_pandas = (time.perf_counter() - start) * 1000\n",
    "print(f\"Pandas execution time: {duration_pandas:.2f} ms\")"
   ]
  },
  {
   "cell_type": "markdown",
   "metadata": {},
   "source": [
    "### Cobra JIT Execution\n",
    "The `@cobra.jit` decorator compiles the entire pipeline into a single kernel, eliminating all intermediate memory copies."
   ]
  },
  {
   "cell_type": "code",
   "execution_count": null,
   "metadata": {},
   "outputs": [],
   "source": [
    "@cobra.jit\n",
    "def pipeline_jit(df):\n",
    "    # The exact same logic\n",
    "    df['col_c'] = df['col_a'] + 10.0\n",
    "    df['col_d'] = df['col_b'] * 2.5\n",
    "    df['col_e'] = df['col_c'] / df['col_d']\n",
    "    return df\n",
    "\n",
    "# Use the profiler to capture and display the results\n",
    "with cobra.profile() as p:\n",
    "    # First run is for JIT compilation\n",
    "    pipeline_jit(cf_cobra)\n",
    "\n",
    "start = time.perf_counter()\n",
    "result_cobra = pipeline_jit(cf_cobra)\n",
    "duration_cobra = (time.perf_counter() - start) * 1000\n",
    "print(f\"Cobra JIT execution time: {duration_cobra:.2f} ms\")\n",
    "\n",
    "print(\"\\n--- Profiler Report for Cobra Execution ---\")\n",
    "p.print_report()"
   ]
  },
  {
   "cell_type": "markdown",
   "metadata": {},
   "source": [
    "## 4. Results"
   ]
  },
  {
   "cell_type": "code",
   "execution_count": null,
   "metadata": {},
   "outputs": [],
   "source": [
    "speedup = duration_pandas / duration_cobra\n",
    "print(f\"Speedup Factor: {speedup:.2f}x\")"
   ]
  }
 ],
 "metadata": {
  "kernelspec": {
   "display_name": "Python 3",
   "language": "python",
   "name": "python3"
  }
 },
 "nbformat": 4,
 "nbformat_minor": 2
}